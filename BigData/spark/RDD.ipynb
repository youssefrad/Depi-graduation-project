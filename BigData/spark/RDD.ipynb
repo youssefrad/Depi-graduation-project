{
 "cells": [
  {
   "cell_type": "markdown",
   "id": "109bd4b1",
   "metadata": {},
   "source": [
    "# prepare enviro of RDD"
   ]
  },
  {
   "cell_type": "code",
   "execution_count": 1,
   "id": "8c81e556",
   "metadata": {},
   "outputs": [],
   "source": [
    "from pyspark.sql import *"
   ]
  },
  {
   "cell_type": "code",
   "execution_count": 2,
   "id": "ba6571f1",
   "metadata": {},
   "outputs": [
    {
     "data": {
      "text/plain": [
       "pyspark.context.SparkContext"
      ]
     },
     "execution_count": 2,
     "metadata": {},
     "output_type": "execute_result"
    }
   ],
   "source": [
    "SparkContext"
   ]
  },
  {
   "cell_type": "code",
   "execution_count": 3,
   "id": "dc95ec7d",
   "metadata": {},
   "outputs": [
    {
     "data": {
      "text/plain": [
       "pyspark.sql.session.SparkSession"
      ]
     },
     "execution_count": 3,
     "metadata": {},
     "output_type": "execute_result"
    }
   ],
   "source": [
    "SparkSession\n"
   ]
  },
  {
   "cell_type": "code",
   "execution_count": 4,
   "id": "9647abbb",
   "metadata": {},
   "outputs": [],
   "source": [
    "spark=SparkSession.builder.getOrCreate()\n"
   ]
  },
  {
   "cell_type": "code",
   "execution_count": 5,
   "id": "c9b9754a",
   "metadata": {},
   "outputs": [
    {
     "data": {
      "text/html": [
       "\n",
       "            <div>\n",
       "                <p><b>SparkSession - hive</b></p>\n",
       "                \n",
       "        <div>\n",
       "            <p><b>SparkContext</b></p>\n",
       "\n",
       "            <p><a href=\"http://10.255.255.254:4040\">Spark UI</a></p>\n",
       "\n",
       "            <dl>\n",
       "              <dt>Version</dt>\n",
       "                <dd><code>v3.5.3</code></dd>\n",
       "              <dt>Master</dt>\n",
       "                <dd><code>local[*]</code></dd>\n",
       "              <dt>AppName</dt>\n",
       "                <dd><code>PySparkShell</code></dd>\n",
       "            </dl>\n",
       "        </div>\n",
       "        \n",
       "            </div>\n",
       "        "
      ],
      "text/plain": [
       "<pyspark.sql.session.SparkSession at 0x7f581757f0b0>"
      ]
     },
     "execution_count": 5,
     "metadata": {},
     "output_type": "execute_result"
    }
   ],
   "source": [
    "spark"
   ]
  },
  {
   "cell_type": "code",
   "execution_count": 6,
   "id": "4232cf20",
   "metadata": {},
   "outputs": [],
   "source": [
    "sc=spark.sparkContext"
   ]
  },
  {
   "cell_type": "code",
   "execution_count": 7,
   "id": "8ff65db2",
   "metadata": {},
   "outputs": [
    {
     "data": {
      "text/html": [
       "\n",
       "        <div>\n",
       "            <p><b>SparkContext</b></p>\n",
       "\n",
       "            <p><a href=\"http://10.255.255.254:4040\">Spark UI</a></p>\n",
       "\n",
       "            <dl>\n",
       "              <dt>Version</dt>\n",
       "                <dd><code>v3.5.3</code></dd>\n",
       "              <dt>Master</dt>\n",
       "                <dd><code>local[*]</code></dd>\n",
       "              <dt>AppName</dt>\n",
       "                <dd><code>PySparkShell</code></dd>\n",
       "            </dl>\n",
       "        </div>\n",
       "        "
      ],
      "text/plain": [
       "<SparkContext master=local[*] appName=PySparkShell>"
      ]
     },
     "execution_count": 7,
     "metadata": {},
     "output_type": "execute_result"
    }
   ],
   "source": [
    "sc"
   ]
  },
  {
   "cell_type": "markdown",
   "id": "ecb8d2fd",
   "metadata": {},
   "source": [
    "# extract file form any file"
   ]
  },
  {
   "cell_type": "code",
   "execution_count": 4,
   "id": "680da5ba",
   "metadata": {},
   "outputs": [],
   "source": [
    "data=sc.textFile(\"bigdatafile.json\")"
   ]
  },
  {
   "cell_type": "code",
   "execution_count": 5,
   "id": "3d9efa42",
   "metadata": {},
   "outputs": [
    {
     "data": {
      "text/plain": [
       "4"
      ]
     },
     "execution_count": 5,
     "metadata": {},
     "output_type": "execute_result"
    }
   ],
   "source": [
    "data.getNumPartitions()"
   ]
  },
  {
   "cell_type": "code",
   "execution_count": 6,
   "id": "45fa019e",
   "metadata": {},
   "outputs": [
    {
     "name": "stderr",
     "output_type": "stream",
     "text": [
      "                                                                                \r"
     ]
    },
    {
     "data": {
      "text/plain": [
       "['{\"InvoiceNo\":536365,\"InvoiceDate\":1291161600000,\"CustomerID\":17850,\"branch_name\":\"United Kingdom\",\"branch_id\":36,\"salesperson_id\":57,\"product_id\":3367,\"product_name\":\"85123A\",\"Description\":\"WHITE HANGING HEART T-LIGHT HOLDER\",\"quantity_sold\":6,\"UnitPrice\":2.55,\"totalsales\":15.3}',\n",
       " '{\"InvoiceNo\":536365,\"InvoiceDate\":1291161600000,\"CustomerID\":17850,\"branch_name\":\"United Kingdom\",\"branch_id\":36,\"salesperson_id\":74,\"product_id\":2432,\"product_name\":71053,\"Description\":\"WHITE METAL LANTERN\",\"quantity_sold\":6,\"UnitPrice\":3.39,\"totalsales\":20.34}',\n",
       " '{\"InvoiceNo\":536365,\"InvoiceDate\":1291161600000,\"CustomerID\":17850,\"branch_name\":\"United Kingdom\",\"branch_id\":36,\"salesperson_id\":71,\"product_id\":3129,\"product_name\":\"84406B\",\"Description\":\"CREAM CUPID HEARTS COAT HANGER\",\"quantity_sold\":8,\"UnitPrice\":2.75,\"totalsales\":22.0}',\n",
       " '{\"InvoiceNo\":536365,\"InvoiceDate\":1291161600000,\"CustomerID\":17850,\"branch_name\":\"United Kingdom\",\"branch_id\":36,\"salesperson_id\":92,\"product_id\":3099,\"product_name\":\"84029G\",\"Description\":\"KNITTED UNION FLAG HOT WATER BOTTLE\",\"quantity_sold\":6,\"UnitPrice\":3.39,\"totalsales\":20.34}',\n",
       " '{\"InvoiceNo\":536365,\"InvoiceDate\":1291161600000,\"CustomerID\":17850,\"branch_name\":\"United Kingdom\",\"branch_id\":36,\"salesperson_id\":73,\"product_id\":3098,\"product_name\":\"84029E\",\"Description\":\"RED WOOLLY HOTTIE WHITE HEART.\",\"quantity_sold\":6,\"UnitPrice\":3.39,\"totalsales\":20.34}',\n",
       " '{\"InvoiceNo\":536365,\"InvoiceDate\":1291161600000,\"CustomerID\":17850,\"branch_name\":\"United Kingdom\",\"branch_id\":36,\"salesperson_id\":77,\"product_id\":1536,\"product_name\":22752,\"Description\":\"SET 7 BABUSHKA NESTING BOXES\",\"quantity_sold\":2,\"UnitPrice\":7.65,\"totalsales\":15.3}',\n",
       " '{\"InvoiceNo\":536365,\"InvoiceDate\":1291161600000,\"CustomerID\":17850,\"branch_name\":\"United Kingdom\",\"branch_id\":36,\"salesperson_id\":1,\"product_id\":686,\"product_name\":21730,\"Description\":\"GLASS STAR FROSTED T-LIGHT HOLDER\",\"quantity_sold\":6,\"UnitPrice\":4.25,\"totalsales\":25.5}',\n",
       " '{\"InvoiceNo\":536366,\"InvoiceDate\":1291161600000,\"CustomerID\":17850,\"branch_name\":\"United Kingdom\",\"branch_id\":36,\"salesperson_id\":97,\"product_id\":1421,\"product_name\":22633,\"Description\":\"HAND WARMER UNION JACK\",\"quantity_sold\":6,\"UnitPrice\":1.85,\"totalsales\":11.1}',\n",
       " '{\"InvoiceNo\":536366,\"InvoiceDate\":1291161600000,\"CustomerID\":17850,\"branch_name\":\"United Kingdom\",\"branch_id\":36,\"salesperson_id\":53,\"product_id\":1420,\"product_name\":22632,\"Description\":\"HAND WARMER RED POLKA DOT\",\"quantity_sold\":6,\"UnitPrice\":1.85,\"totalsales\":11.1}',\n",
       " '{\"InvoiceNo\":536367,\"InvoiceDate\":1291161600000,\"CustomerID\":13047,\"branch_name\":\"United Kingdom\",\"branch_id\":36,\"salesperson_id\":35,\"product_id\":2611,\"product_name\":84879,\"Description\":\"ASSORTED COLOUR BIRD ORNAMENT\",\"quantity_sold\":32,\"UnitPrice\":1.69,\"totalsales\":54.08}']"
      ]
     },
     "execution_count": 6,
     "metadata": {},
     "output_type": "execute_result"
    }
   ],
   "source": [
    "data.take(10) # as list "
   ]
  },
  {
   "cell_type": "code",
   "execution_count": 7,
   "id": "c072db70",
   "metadata": {},
   "outputs": [],
   "source": [
    "# Parse JSON and Create a Dictionary\n",
    "json_rdd = data.map(lambda x: json.loads(x)) # convert each json string to python dictionary  \n"
   ]
  },
  {
   "cell_type": "code",
   "execution_count": 8,
   "id": "857d62d2",
   "metadata": {
    "scrolled": false
   },
   "outputs": [
    {
     "data": {
      "text/plain": [
       "[{'InvoiceNo': 536365,\n",
       "  'InvoiceDate': 1291161600000,\n",
       "  'CustomerID': 17850,\n",
       "  'branch_name': 'United Kingdom',\n",
       "  'branch_id': 36,\n",
       "  'salesperson_id': 57,\n",
       "  'product_id': 3367,\n",
       "  'product_name': '85123A',\n",
       "  'Description': 'WHITE HANGING HEART T-LIGHT HOLDER',\n",
       "  'quantity_sold': 6,\n",
       "  'UnitPrice': 2.55,\n",
       "  'totalsales': 15.3},\n",
       " {'InvoiceNo': 536365,\n",
       "  'InvoiceDate': 1291161600000,\n",
       "  'CustomerID': 17850,\n",
       "  'branch_name': 'United Kingdom',\n",
       "  'branch_id': 36,\n",
       "  'salesperson_id': 74,\n",
       "  'product_id': 2432,\n",
       "  'product_name': 71053,\n",
       "  'Description': 'WHITE METAL LANTERN',\n",
       "  'quantity_sold': 6,\n",
       "  'UnitPrice': 3.39,\n",
       "  'totalsales': 20.34},\n",
       " {'InvoiceNo': 536365,\n",
       "  'InvoiceDate': 1291161600000,\n",
       "  'CustomerID': 17850,\n",
       "  'branch_name': 'United Kingdom',\n",
       "  'branch_id': 36,\n",
       "  'salesperson_id': 71,\n",
       "  'product_id': 3129,\n",
       "  'product_name': '84406B',\n",
       "  'Description': 'CREAM CUPID HEARTS COAT HANGER',\n",
       "  'quantity_sold': 8,\n",
       "  'UnitPrice': 2.75,\n",
       "  'totalsales': 22.0},\n",
       " {'InvoiceNo': 536365,\n",
       "  'InvoiceDate': 1291161600000,\n",
       "  'CustomerID': 17850,\n",
       "  'branch_name': 'United Kingdom',\n",
       "  'branch_id': 36,\n",
       "  'salesperson_id': 92,\n",
       "  'product_id': 3099,\n",
       "  'product_name': '84029G',\n",
       "  'Description': 'KNITTED UNION FLAG HOT WATER BOTTLE',\n",
       "  'quantity_sold': 6,\n",
       "  'UnitPrice': 3.39,\n",
       "  'totalsales': 20.34},\n",
       " {'InvoiceNo': 536365,\n",
       "  'InvoiceDate': 1291161600000,\n",
       "  'CustomerID': 17850,\n",
       "  'branch_name': 'United Kingdom',\n",
       "  'branch_id': 36,\n",
       "  'salesperson_id': 73,\n",
       "  'product_id': 3098,\n",
       "  'product_name': '84029E',\n",
       "  'Description': 'RED WOOLLY HOTTIE WHITE HEART.',\n",
       "  'quantity_sold': 6,\n",
       "  'UnitPrice': 3.39,\n",
       "  'totalsales': 20.34},\n",
       " {'InvoiceNo': 536365,\n",
       "  'InvoiceDate': 1291161600000,\n",
       "  'CustomerID': 17850,\n",
       "  'branch_name': 'United Kingdom',\n",
       "  'branch_id': 36,\n",
       "  'salesperson_id': 77,\n",
       "  'product_id': 1536,\n",
       "  'product_name': 22752,\n",
       "  'Description': 'SET 7 BABUSHKA NESTING BOXES',\n",
       "  'quantity_sold': 2,\n",
       "  'UnitPrice': 7.65,\n",
       "  'totalsales': 15.3},\n",
       " {'InvoiceNo': 536365,\n",
       "  'InvoiceDate': 1291161600000,\n",
       "  'CustomerID': 17850,\n",
       "  'branch_name': 'United Kingdom',\n",
       "  'branch_id': 36,\n",
       "  'salesperson_id': 1,\n",
       "  'product_id': 686,\n",
       "  'product_name': 21730,\n",
       "  'Description': 'GLASS STAR FROSTED T-LIGHT HOLDER',\n",
       "  'quantity_sold': 6,\n",
       "  'UnitPrice': 4.25,\n",
       "  'totalsales': 25.5},\n",
       " {'InvoiceNo': 536366,\n",
       "  'InvoiceDate': 1291161600000,\n",
       "  'CustomerID': 17850,\n",
       "  'branch_name': 'United Kingdom',\n",
       "  'branch_id': 36,\n",
       "  'salesperson_id': 97,\n",
       "  'product_id': 1421,\n",
       "  'product_name': 22633,\n",
       "  'Description': 'HAND WARMER UNION JACK',\n",
       "  'quantity_sold': 6,\n",
       "  'UnitPrice': 1.85,\n",
       "  'totalsales': 11.1},\n",
       " {'InvoiceNo': 536366,\n",
       "  'InvoiceDate': 1291161600000,\n",
       "  'CustomerID': 17850,\n",
       "  'branch_name': 'United Kingdom',\n",
       "  'branch_id': 36,\n",
       "  'salesperson_id': 53,\n",
       "  'product_id': 1420,\n",
       "  'product_name': 22632,\n",
       "  'Description': 'HAND WARMER RED POLKA DOT',\n",
       "  'quantity_sold': 6,\n",
       "  'UnitPrice': 1.85,\n",
       "  'totalsales': 11.1},\n",
       " {'InvoiceNo': 536367,\n",
       "  'InvoiceDate': 1291161600000,\n",
       "  'CustomerID': 13047,\n",
       "  'branch_name': 'United Kingdom',\n",
       "  'branch_id': 36,\n",
       "  'salesperson_id': 35,\n",
       "  'product_id': 2611,\n",
       "  'product_name': 84879,\n",
       "  'Description': 'ASSORTED COLOUR BIRD ORNAMENT',\n",
       "  'quantity_sold': 32,\n",
       "  'UnitPrice': 1.69,\n",
       "  'totalsales': 54.08}]"
      ]
     },
     "execution_count": 8,
     "metadata": {},
     "output_type": "execute_result"
    }
   ],
   "source": [
    "json_rdd.take(10)"
   ]
  },
  {
   "cell_type": "markdown",
   "id": "d075337a",
   "metadata": {},
   "source": [
    "## Analysis on RDD "
   ]
  },
  {
   "cell_type": "markdown",
   "id": "8e4cde6b",
   "metadata": {},
   "source": [
    "# 1 Count Total Records"
   ]
  },
  {
   "cell_type": "code",
   "execution_count": 9,
   "id": "c9e2dd55",
   "metadata": {},
   "outputs": [
    {
     "name": "stderr",
     "output_type": "stream",
     "text": [
      "                                                                                \r"
     ]
    }
   ],
   "source": [
    "total_records=json_rdd.count()"
   ]
  },
  {
   "cell_type": "code",
   "execution_count": 10,
   "id": "c0c9b00a",
   "metadata": {},
   "outputs": [
    {
     "name": "stdout",
     "output_type": "stream",
     "text": [
      "Total Records: 406829\n"
     ]
    }
   ],
   "source": [
    "print(f\"Total Records: {total_records}\")"
   ]
  },
  {
   "cell_type": "markdown",
   "id": "d5c125f8",
   "metadata": {},
   "source": []
  },
  {
   "cell_type": "markdown",
   "id": "1b063fef",
   "metadata": {},
   "source": [
    " # 2 Get Unique Customer IDs"
   ]
  },
  {
   "cell_type": "code",
   "execution_count": 11,
   "id": "4cfdd276",
   "metadata": {},
   "outputs": [
    {
     "name": "stderr",
     "output_type": "stream",
     "text": [
      "                                                                                \r"
     ]
    }
   ],
   "source": [
    "unique_customers = json_rdd.map(lambda x: x['CustomerID']).distinct().count()"
   ]
  },
  {
   "cell_type": "code",
   "execution_count": 12,
   "id": "0fc225b3",
   "metadata": {},
   "outputs": [
    {
     "name": "stdout",
     "output_type": "stream",
     "text": [
      "Unique Customers: 4372\n"
     ]
    }
   ],
   "source": [
    "print(f\"Unique Customers: {unique_customers}\")"
   ]
  },
  {
   "cell_type": "markdown",
   "id": "27e6e40c",
   "metadata": {},
   "source": []
  },
  {
   "cell_type": "markdown",
   "id": "c725f506",
   "metadata": {},
   "source": [
    "# 3 Calculate Total Sales"
   ]
  },
  {
   "cell_type": "code",
   "execution_count": 13,
   "id": "bf627d01",
   "metadata": {},
   "outputs": [
    {
     "name": "stderr",
     "output_type": "stream",
     "text": [
      "\r",
      "[Stage 5:==============>                                            (1 + 3) / 4]\r",
      "\r",
      "                                                                                \r"
     ]
    }
   ],
   "source": [
    "total_sales = json_rdd.map(lambda x: x['totalsales']).reduce(lambda x, y: x + y)\n",
    "\n",
    "# reduce is used to aggregate all elements of an RDD into a single value."
   ]
  },
  {
   "cell_type": "code",
   "execution_count": 16,
   "id": "b4c91026",
   "metadata": {},
   "outputs": [
    {
     "name": "stdout",
     "output_type": "stream",
     "text": [
      "total sales of 406829 record for 4,372 customers is 8,300,065.81 $\n"
     ]
    }
   ],
   "source": [
    "print(f'total sales of {total_records} record for {unique_customers:,} customers is {total_sales:,.2f} $')"
   ]
  },
  {
   "cell_type": "markdown",
   "id": "cb4282bb",
   "metadata": {},
   "source": []
  },
  {
   "cell_type": "markdown",
   "id": "1add1d1b",
   "metadata": {},
   "source": [
    "# 4 Find Sales by Product(TOP20)"
   ]
  },
  {
   "cell_type": "code",
   "execution_count": 63,
   "id": "1f1eeef0",
   "metadata": {},
   "outputs": [
    {
     "name": "stderr",
     "output_type": "stream",
     "text": [
      "                                                                                \r"
     ]
    },
    {
     "data": {
      "text/plain": [
       "[(22423, (132870.39999999994, 'REGENCY CAKESTAND 3 TIER')),\n",
       " ('85123A', (93979.20000000007, 'WHITE HANGING HEART T-LIGHT HOLDER')),\n",
       " ('85099B', (83236.75999999975, 'JUMBO BAG RED RETROSPOT')),\n",
       " (47566, (67687.52999999997, 'PARTY BUNTING')),\n",
       " ('POST', (66710.24, 'POSTAGE')),\n",
       " (84879, (56499.2200000003, 'ASSORTED COLOUR BIRD ORNAMENT')),\n",
       " (23084, (51137.79999999986, 'RABBIT NIGHT LIGHT')),\n",
       " (22502, (46980.95, 'PICNIC BASKET WICKER SMALL')),\n",
       " (79321, (45936.80999999999, 'CHILLI LIGHTS')),\n",
       " (22086, (41500.48000000011, \"PAPER CHAIN KIT 50'S CHRISTMAS \")),\n",
       " (21137, (39009.38, 'BLACK RECORD COVER FRAME')),\n",
       " (22197, (36859.87999999999, 'SMALL POPCORN HOLDER')),\n",
       " (23203, (36607.97999999985, 'JUMBO BAG DOILEY PATTERNS')),\n",
       " (22386, (36473.0099999999, 'JUMBO BAG PINK POLKADOT')),\n",
       " (23298, (35691.140000000014, 'SPOTTY BUNTING')),\n",
       " (23284, (34312.59999999997, 'DOORMAT KEEP CALM AND COME IN')),\n",
       " (82484, (34307.05999999996, 'WOOD BLACK BOARD ANT WHITE FINISH')),\n",
       " (22720, (32607.800000000138, 'SET OF 3 CAKE TINS PANTRY DESIGN ')),\n",
       " (22960, (31658.47, 'JAM MAKING SET WITH JARS')),\n",
       " ('85099F', (30195.70999999997, 'JUMBO BAG STRAWBERRY'))]"
      ]
     },
     "execution_count": 63,
     "metadata": {},
     "output_type": "execute_result"
    }
   ],
   "source": [
    "sales_prod_desc = json_rdd.map(lambda x: (x['product_name'], (x['totalsales'], x['Description']))) \\\n",
    "    .reduceByKey(lambda a, b: (a[0] + b[0], a[1]))\n",
    "\n",
    "\n",
    "#(x[0]is product ,(x[1][0]is total sales,x[1][1]descri)) \n",
    "sorted_sales_prod = sales_prod_desc.map(lambda x: (x[0], (x[1][0], x[1][1])))\\\n",
    ".sortBy(lambda x: x[1][0], ascending=False)  # Sort by total_sales (desc from large to small) #x[1]because he want total sales \n",
    "\n",
    "sorted_sales.take(20) # as list but each elemnt as tuple key_paires (,())\n",
    "\n",
    "#reduceByKey is used specifically with key-value pair RDDs"
   ]
  },
  {
   "cell_type": "code",
   "execution_count": 68,
   "id": "3b294eec",
   "metadata": {},
   "outputs": [
    {
     "name": "stdout",
     "output_type": "stream",
     "text": [
      "3684\n"
     ]
    }
   ],
   "source": [
    "countprod=sorted_sales_prod.count()\n",
    "print(countprod)"
   ]
  },
  {
   "cell_type": "code",
   "execution_count": 69,
   "id": "d224c00a",
   "metadata": {
    "scrolled": false
   },
   "outputs": [
    {
     "name": "stdout",
     "output_type": "stream",
     "text": [
      "the top20 product in totalsales  from 3684\n",
      "\n",
      "The name of product '22423' has the description 'REGENCY CAKESTAND 3 TIER' and total sales is: 132,870.40 $\n",
      "The name of product '85123A' has the description 'WHITE HANGING HEART T-LIGHT HOLDER' and total sales is: 93,979.20 $\n",
      "The name of product '85099B' has the description 'JUMBO BAG RED RETROSPOT' and total sales is: 83,236.76 $\n",
      "The name of product '47566' has the description 'PARTY BUNTING' and total sales is: 67,687.53 $\n",
      "The name of product 'POST' has the description 'POSTAGE' and total sales is: 66,710.24 $\n",
      "The name of product '84879' has the description 'ASSORTED COLOUR BIRD ORNAMENT' and total sales is: 56,499.22 $\n",
      "The name of product '23084' has the description 'RABBIT NIGHT LIGHT' and total sales is: 51,137.80 $\n",
      "The name of product '22502' has the description 'PICNIC BASKET WICKER SMALL' and total sales is: 46,980.95 $\n",
      "The name of product '79321' has the description 'CHILLI LIGHTS' and total sales is: 45,936.81 $\n",
      "The name of product '22086' has the description 'PAPER CHAIN KIT 50'S CHRISTMAS ' and total sales is: 41,500.48 $\n",
      "The name of product '21137' has the description 'BLACK RECORD COVER FRAME' and total sales is: 39,009.38 $\n",
      "The name of product '22197' has the description 'SMALL POPCORN HOLDER' and total sales is: 36,859.88 $\n",
      "The name of product '23203' has the description 'JUMBO BAG DOILEY PATTERNS' and total sales is: 36,607.98 $\n",
      "The name of product '22386' has the description 'JUMBO BAG PINK POLKADOT' and total sales is: 36,473.01 $\n",
      "The name of product '23298' has the description 'SPOTTY BUNTING' and total sales is: 35,691.14 $\n",
      "The name of product '23284' has the description 'DOORMAT KEEP CALM AND COME IN' and total sales is: 34,312.60 $\n",
      "The name of product '82484' has the description 'WOOD BLACK BOARD ANT WHITE FINISH' and total sales is: 34,307.06 $\n",
      "The name of product '22720' has the description 'SET OF 3 CAKE TINS PANTRY DESIGN ' and total sales is: 32,607.80 $\n",
      "The name of product '22960' has the description 'JAM MAKING SET WITH JARS' and total sales is: 31,658.47 $\n",
      "The name of product '85099F' has the description 'JUMBO BAG STRAWBERRY' and total sales is: 30,195.71 $\n"
     ]
    }
   ],
   "source": [
    "\n",
    "# Print the header\n",
    "print(f'the top20 product in totalsales  from {countprod}\\n')\n",
    "\n",
    "# Iterate through the collected list\n",
    "for product,(total_sales, desc) in sorted_sales_prod.take(20): # as list \n",
    "    print(f\"The name of product '{product}' has the description '{desc}' and total sales is: {total_sales:,.02f} $\")\n"
   ]
  },
  {
   "cell_type": "markdown",
   "id": "66665b88",
   "metadata": {},
   "source": []
  },
  {
   "cell_type": "markdown",
   "id": "f3331c04",
   "metadata": {},
   "source": [
    "#  5 find sales by branch(TOP10)  "
   ]
  },
  {
   "cell_type": "code",
   "execution_count": 70,
   "id": "fca1d029",
   "metadata": {},
   "outputs": [
    {
     "name": "stderr",
     "output_type": "stream",
     "text": [
      "                                                                                \r"
     ]
    },
    {
     "data": {
      "text/plain": [
       "[('United Kingdom', (36, 6767873.393999164)),\n",
       " ('Netherlands', (24, 284661.53999999975)),\n",
       " ('EIRE', (11, 250285.21999999945)),\n",
       " ('Germany', (15, 221698.21000000072)),\n",
       " ('France', (14, 196712.84)),\n",
       " ('Australia', (1, 137077.26999999996)),\n",
       " ('Switzerland', (33, 55739.40000000005)),\n",
       " ('Spain', (31, 54774.58000000008)),\n",
       " ('Belgium', (4, 40910.95999999999)),\n",
       " ('Sweden', (32, 36595.909999999996)),\n",
       " ('Japan', (20, 35340.619999999995)),\n",
       " ('Norway', (25, 35163.46000000001)),\n",
       " ('Portugal', (27, 29059.809999999983)),\n",
       " ('Finland', (13, 22326.740000000005)),\n",
       " ('Channel Islands', (7, 20086.289999999997)),\n",
       " ('Denmark', (10, 18768.139999999992)),\n",
       " ('Italy', (19, 16890.509999999995)),\n",
       " ('Cyprus', (8, 12946.289999999992)),\n",
       " ('Austria', (2, 10154.320000000003)),\n",
       " ('Singapore', (30, 9120.390000000001))]"
      ]
     },
     "execution_count": 70,
     "metadata": {},
     "output_type": "execute_result"
    }
   ],
   "source": [
    "\n",
    "sales_branch = json_rdd.map(lambda x: (x['branch_name'],(x['branch_id'], x['totalsales'])))\\\n",
    ".reduceByKey(lambda x, y: (x[0],(x[1]+y[1])) )\n",
    "sales_branch.collect()\n",
    "\n",
    "sorted_sales_branch=sales_branch.map(lambda x:(x[0],(x[1][0],x[1][1]))).sortBy(lambda x:x[1][1],ascending=False)\n",
    "\n",
    "sorted_sales_branch.take(20)\n"
   ]
  },
  {
   "cell_type": "code",
   "execution_count": 71,
   "id": "462c87a9",
   "metadata": {},
   "outputs": [
    {
     "data": {
      "text/plain": [
       "37"
      ]
     },
     "execution_count": 71,
     "metadata": {},
     "output_type": "execute_result"
    }
   ],
   "source": [
    "countbranch=sales_branch.count()\n",
    "countbranch"
   ]
  },
  {
   "cell_type": "code",
   "execution_count": 72,
   "id": "f627ca05",
   "metadata": {},
   "outputs": [
    {
     "name": "stdout",
     "output_type": "stream",
     "text": [
      "the top 10 branch in totalsales  from 37\n",
      "\n",
      "The name of branch 'United Kingdom' his id is  '36' and his total sales  is: 6,767,873.39 $\n",
      "The name of branch 'Netherlands' his id is  '24' and his total sales  is: 284,661.54 $\n",
      "The name of branch 'EIRE' his id is  '11' and his total sales  is: 250,285.22 $\n",
      "The name of branch 'Germany' his id is  '15' and his total sales  is: 221,698.21 $\n",
      "The name of branch 'France' his id is  '14' and his total sales  is: 196,712.84 $\n",
      "The name of branch 'Australia' his id is  '1' and his total sales  is: 137,077.27 $\n",
      "The name of branch 'Switzerland' his id is  '33' and his total sales  is: 55,739.40 $\n",
      "The name of branch 'Spain' his id is  '31' and his total sales  is: 54,774.58 $\n",
      "The name of branch 'Belgium' his id is  '4' and his total sales  is: 40,910.96 $\n",
      "The name of branch 'Sweden' his id is  '32' and his total sales  is: 36,595.91 $\n",
      "The name of branch 'Japan' his id is  '20' and his total sales  is: 35,340.62 $\n",
      "The name of branch 'Norway' his id is  '25' and his total sales  is: 35,163.46 $\n",
      "The name of branch 'Portugal' his id is  '27' and his total sales  is: 29,059.81 $\n",
      "The name of branch 'Finland' his id is  '13' and his total sales  is: 22,326.74 $\n",
      "The name of branch 'Channel Islands' his id is  '7' and his total sales  is: 20,086.29 $\n",
      "The name of branch 'Denmark' his id is  '10' and his total sales  is: 18,768.14 $\n",
      "The name of branch 'Italy' his id is  '19' and his total sales  is: 16,890.51 $\n",
      "The name of branch 'Cyprus' his id is  '8' and his total sales  is: 12,946.29 $\n",
      "The name of branch 'Austria' his id is  '2' and his total sales  is: 10,154.32 $\n",
      "The name of branch 'Singapore' his id is  '30' and his total sales  is: 9,120.39 $\n"
     ]
    }
   ],
   "source": [
    "\n",
    "# Print the header\n",
    "print(f'the top 10 branch in totalsales  from {countbranch}\\n')\n",
    "\n",
    "# Iterate through the collected list\n",
    "for branch,(id_b,sales) in sorted_sales_branch.take(20): # as list \n",
    "    print(f\"The name of branch '{branch}' his id is  '{id_b}' and his total sales  is: {sales:,.02f} $\")"
   ]
  },
  {
   "cell_type": "markdown",
   "id": "8dbfe6b2",
   "metadata": {},
   "source": [
    "# 6 total sales according name of branch"
   ]
  },
  {
   "cell_type": "code",
   "execution_count": 74,
   "id": "bf0b4a0a",
   "metadata": {},
   "outputs": [
    {
     "data": {
      "text/plain": [
       "[{'InvoiceNo': 536365,\n",
       "  'InvoiceDate': 1291161600000,\n",
       "  'CustomerID': 17850,\n",
       "  'branch_name': 'United Kingdom',\n",
       "  'branch_id': 36,\n",
       "  'salesperson_id': 57,\n",
       "  'product_id': 3367,\n",
       "  'product_name': '85123A',\n",
       "  'Description': 'WHITE HANGING HEART T-LIGHT HOLDER',\n",
       "  'quantity_sold': 6,\n",
       "  'UnitPrice': 2.55,\n",
       "  'totalsales': 15.3},\n",
       " {'InvoiceNo': 536365,\n",
       "  'InvoiceDate': 1291161600000,\n",
       "  'CustomerID': 17850,\n",
       "  'branch_name': 'United Kingdom',\n",
       "  'branch_id': 36,\n",
       "  'salesperson_id': 74,\n",
       "  'product_id': 2432,\n",
       "  'product_name': 71053,\n",
       "  'Description': 'WHITE METAL LANTERN',\n",
       "  'quantity_sold': 6,\n",
       "  'UnitPrice': 3.39,\n",
       "  'totalsales': 20.34},\n",
       " {'InvoiceNo': 536365,\n",
       "  'InvoiceDate': 1291161600000,\n",
       "  'CustomerID': 17850,\n",
       "  'branch_name': 'United Kingdom',\n",
       "  'branch_id': 36,\n",
       "  'salesperson_id': 71,\n",
       "  'product_id': 3129,\n",
       "  'product_name': '84406B',\n",
       "  'Description': 'CREAM CUPID HEARTS COAT HANGER',\n",
       "  'quantity_sold': 8,\n",
       "  'UnitPrice': 2.75,\n",
       "  'totalsales': 22.0},\n",
       " {'InvoiceNo': 536365,\n",
       "  'InvoiceDate': 1291161600000,\n",
       "  'CustomerID': 17850,\n",
       "  'branch_name': 'United Kingdom',\n",
       "  'branch_id': 36,\n",
       "  'salesperson_id': 92,\n",
       "  'product_id': 3099,\n",
       "  'product_name': '84029G',\n",
       "  'Description': 'KNITTED UNION FLAG HOT WATER BOTTLE',\n",
       "  'quantity_sold': 6,\n",
       "  'UnitPrice': 3.39,\n",
       "  'totalsales': 20.34},\n",
       " {'InvoiceNo': 536365,\n",
       "  'InvoiceDate': 1291161600000,\n",
       "  'CustomerID': 17850,\n",
       "  'branch_name': 'United Kingdom',\n",
       "  'branch_id': 36,\n",
       "  'salesperson_id': 73,\n",
       "  'product_id': 3098,\n",
       "  'product_name': '84029E',\n",
       "  'Description': 'RED WOOLLY HOTTIE WHITE HEART.',\n",
       "  'quantity_sold': 6,\n",
       "  'UnitPrice': 3.39,\n",
       "  'totalsales': 20.34},\n",
       " {'InvoiceNo': 536365,\n",
       "  'InvoiceDate': 1291161600000,\n",
       "  'CustomerID': 17850,\n",
       "  'branch_name': 'United Kingdom',\n",
       "  'branch_id': 36,\n",
       "  'salesperson_id': 77,\n",
       "  'product_id': 1536,\n",
       "  'product_name': 22752,\n",
       "  'Description': 'SET 7 BABUSHKA NESTING BOXES',\n",
       "  'quantity_sold': 2,\n",
       "  'UnitPrice': 7.65,\n",
       "  'totalsales': 15.3},\n",
       " {'InvoiceNo': 536365,\n",
       "  'InvoiceDate': 1291161600000,\n",
       "  'CustomerID': 17850,\n",
       "  'branch_name': 'United Kingdom',\n",
       "  'branch_id': 36,\n",
       "  'salesperson_id': 1,\n",
       "  'product_id': 686,\n",
       "  'product_name': 21730,\n",
       "  'Description': 'GLASS STAR FROSTED T-LIGHT HOLDER',\n",
       "  'quantity_sold': 6,\n",
       "  'UnitPrice': 4.25,\n",
       "  'totalsales': 25.5},\n",
       " {'InvoiceNo': 536366,\n",
       "  'InvoiceDate': 1291161600000,\n",
       "  'CustomerID': 17850,\n",
       "  'branch_name': 'United Kingdom',\n",
       "  'branch_id': 36,\n",
       "  'salesperson_id': 97,\n",
       "  'product_id': 1421,\n",
       "  'product_name': 22633,\n",
       "  'Description': 'HAND WARMER UNION JACK',\n",
       "  'quantity_sold': 6,\n",
       "  'UnitPrice': 1.85,\n",
       "  'totalsales': 11.1},\n",
       " {'InvoiceNo': 536366,\n",
       "  'InvoiceDate': 1291161600000,\n",
       "  'CustomerID': 17850,\n",
       "  'branch_name': 'United Kingdom',\n",
       "  'branch_id': 36,\n",
       "  'salesperson_id': 53,\n",
       "  'product_id': 1420,\n",
       "  'product_name': 22632,\n",
       "  'Description': 'HAND WARMER RED POLKA DOT',\n",
       "  'quantity_sold': 6,\n",
       "  'UnitPrice': 1.85,\n",
       "  'totalsales': 11.1},\n",
       " {'InvoiceNo': 536367,\n",
       "  'InvoiceDate': 1291161600000,\n",
       "  'CustomerID': 13047,\n",
       "  'branch_name': 'United Kingdom',\n",
       "  'branch_id': 36,\n",
       "  'salesperson_id': 35,\n",
       "  'product_id': 2611,\n",
       "  'product_name': 84879,\n",
       "  'Description': 'ASSORTED COLOUR BIRD ORNAMENT',\n",
       "  'quantity_sold': 32,\n",
       "  'UnitPrice': 1.69,\n",
       "  'totalsales': 54.08},\n",
       " {'InvoiceNo': 536367,\n",
       "  'InvoiceDate': 1291161600000,\n",
       "  'CustomerID': 13047,\n",
       "  'branch_name': 'United Kingdom',\n",
       "  'branch_id': 36,\n",
       "  'salesperson_id': 13,\n",
       "  'product_id': 1529,\n",
       "  'product_name': 22745,\n",
       "  'Description': \"POPPY'S PLAYHOUSE BEDROOM \",\n",
       "  'quantity_sold': 6,\n",
       "  'UnitPrice': 2.1,\n",
       "  'totalsales': 12.6},\n",
       " {'InvoiceNo': 536367,\n",
       "  'InvoiceDate': 1291161600000,\n",
       "  'CustomerID': 13047,\n",
       "  'branch_name': 'United Kingdom',\n",
       "  'branch_id': 36,\n",
       "  'salesperson_id': 45,\n",
       "  'product_id': 1532,\n",
       "  'product_name': 22748,\n",
       "  'Description': \"POPPY'S PLAYHOUSE KITCHEN\",\n",
       "  'quantity_sold': 6,\n",
       "  'UnitPrice': 2.1,\n",
       "  'totalsales': 12.6},\n",
       " {'InvoiceNo': 536367,\n",
       "  'InvoiceDate': 1291161600000,\n",
       "  'CustomerID': 13047,\n",
       "  'branch_name': 'United Kingdom',\n",
       "  'branch_id': 36,\n",
       "  'salesperson_id': 25,\n",
       "  'product_id': 1533,\n",
       "  'product_name': 22749,\n",
       "  'Description': 'FELTCRAFT PRINCESS CHARLOTTE DOLL',\n",
       "  'quantity_sold': 8,\n",
       "  'UnitPrice': 3.75,\n",
       "  'totalsales': 30.0},\n",
       " {'InvoiceNo': 536367,\n",
       "  'InvoiceDate': 1291161600000,\n",
       "  'CustomerID': 13047,\n",
       "  'branch_name': 'United Kingdom',\n",
       "  'branch_id': 36,\n",
       "  'salesperson_id': 7,\n",
       "  'product_id': 1122,\n",
       "  'product_name': 22310,\n",
       "  'Description': 'IVORY KNITTED MUG COSY ',\n",
       "  'quantity_sold': 6,\n",
       "  'UnitPrice': 1.65,\n",
       "  'totalsales': 9.9},\n",
       " {'InvoiceNo': 536367,\n",
       "  'InvoiceDate': 1291161600000,\n",
       "  'CustomerID': 13047,\n",
       "  'branch_name': 'United Kingdom',\n",
       "  'branch_id': 36,\n",
       "  'salesperson_id': 42,\n",
       "  'product_id': 2632,\n",
       "  'product_name': 84969,\n",
       "  'Description': 'BOX OF 6 ASSORTED COLOUR TEASPOONS',\n",
       "  'quantity_sold': 6,\n",
       "  'UnitPrice': 4.25,\n",
       "  'totalsales': 25.5},\n",
       " {'InvoiceNo': 536367,\n",
       "  'InvoiceDate': 1291161600000,\n",
       "  'CustomerID': 13047,\n",
       "  'branch_name': 'United Kingdom',\n",
       "  'branch_id': 36,\n",
       "  'salesperson_id': 72,\n",
       "  'product_id': 1411,\n",
       "  'product_name': 22623,\n",
       "  'Description': 'BOX OF VINTAGE JIGSAW BLOCKS ',\n",
       "  'quantity_sold': 3,\n",
       "  'UnitPrice': 4.95,\n",
       "  'totalsales': 14.85},\n",
       " {'InvoiceNo': 536367,\n",
       "  'InvoiceDate': 1291161600000,\n",
       "  'CustomerID': 13047,\n",
       "  'branch_name': 'United Kingdom',\n",
       "  'branch_id': 36,\n",
       "  'salesperson_id': 38,\n",
       "  'product_id': 1410,\n",
       "  'product_name': 22622,\n",
       "  'Description': 'BOX OF VINTAGE ALPHABET BLOCKS',\n",
       "  'quantity_sold': 2,\n",
       "  'UnitPrice': 9.95,\n",
       "  'totalsales': 19.9},\n",
       " {'InvoiceNo': 536367,\n",
       "  'InvoiceDate': 1291161600000,\n",
       "  'CustomerID': 13047,\n",
       "  'branch_name': 'United Kingdom',\n",
       "  'branch_id': 36,\n",
       "  'salesperson_id': 59,\n",
       "  'product_id': 702,\n",
       "  'product_name': 21754,\n",
       "  'Description': 'HOME BUILDING BLOCK WORD',\n",
       "  'quantity_sold': 3,\n",
       "  'UnitPrice': 5.95,\n",
       "  'totalsales': 17.85},\n",
       " {'InvoiceNo': 536367,\n",
       "  'InvoiceDate': 1291161600000,\n",
       "  'CustomerID': 13047,\n",
       "  'branch_name': 'United Kingdom',\n",
       "  'branch_id': 36,\n",
       "  'salesperson_id': 31,\n",
       "  'product_id': 703,\n",
       "  'product_name': 21755,\n",
       "  'Description': 'LOVE BUILDING BLOCK WORD',\n",
       "  'quantity_sold': 3,\n",
       "  'UnitPrice': 5.95,\n",
       "  'totalsales': 17.85},\n",
       " {'InvoiceNo': 536367,\n",
       "  'InvoiceDate': 1291161600000,\n",
       "  'CustomerID': 13047,\n",
       "  'branch_name': 'United Kingdom',\n",
       "  'branch_id': 36,\n",
       "  'salesperson_id': 40,\n",
       "  'product_id': 714,\n",
       "  'product_name': 21777,\n",
       "  'Description': 'RECIPE BOX WITH METAL HEART',\n",
       "  'quantity_sold': 4,\n",
       "  'UnitPrice': 7.95,\n",
       "  'totalsales': 31.8}]"
      ]
     },
     "execution_count": 74,
     "metadata": {},
     "output_type": "execute_result"
    }
   ],
   "source": [
    "# Filter by Branch\n",
    "uk_sales = json_rdd.filter(lambda x: x['branch_name'] == \"United Kingdom\")\n",
    "uk_sales.take(20)\n",
    "\n"
   ]
  },
  {
   "cell_type": "code",
   "execution_count": 77,
   "id": "6d51d2e1",
   "metadata": {},
   "outputs": [
    {
     "name": "stderr",
     "output_type": "stream",
     "text": [
      "                                                                                \r"
     ]
    },
    {
     "data": {
      "text/plain": [
       "361878"
      ]
     },
     "execution_count": 77,
     "metadata": {},
     "output_type": "execute_result"
    }
   ],
   "source": [
    "uk_sales_count=uk_sales.count()\n",
    "uk_sales_count"
   ]
  },
  {
   "cell_type": "code",
   "execution_count": 79,
   "id": "06ad0fa3",
   "metadata": {},
   "outputs": [
    {
     "name": "stderr",
     "output_type": "stream",
     "text": [
      "\r",
      "[Stage 156:==============>                                          (1 + 3) / 4]\r"
     ]
    },
    {
     "name": "stdout",
     "output_type": "stream",
     "text": [
      "Total Sales in UK at 361878 records is: 6,767,873.39 $\n"
     ]
    },
    {
     "name": "stderr",
     "output_type": "stream",
     "text": [
      "\r",
      "                                                                                \r"
     ]
    }
   ],
   "source": [
    "uk_total_sales = uk_sales.map(lambda x: x['totalsales']).reduce(lambda x, y: x + y)\n",
    "print(f\"Total Sales in UK at {uk_sales_count} records is: {uk_total_sales:,.02f} $\")\n"
   ]
  },
  {
   "cell_type": "markdown",
   "id": "7276c429",
   "metadata": {},
   "source": [
    "#  7 Calculate Average Sales"
   ]
  },
  {
   "cell_type": "code",
   "execution_count": 82,
   "id": "2cc346d6",
   "metadata": {},
   "outputs": [
    {
     "name": "stderr",
     "output_type": "stream",
     "text": [
      "\r",
      "[Stage 158:==============>                                          (1 + 3) / 4]\r"
     ]
    },
    {
     "name": "stdout",
     "output_type": "stream",
     "text": [
      "Average Sales at 406829 is : 20.402 $\n"
     ]
    },
    {
     "name": "stderr",
     "output_type": "stream",
     "text": [
      "\r",
      "[Stage 158:============================>                            (2 + 2) / 4]\r",
      "\r",
      "                                                                                \r"
     ]
    }
   ],
   "source": [
    "# Calculate Average Sales\n",
    "avg_sales = json_rdd.map(lambda x: x['totalsales']).mean()\n",
    "print(f\"Average Sales at {total_records} is : {avg_sales:,.03f} $\")\n"
   ]
  },
  {
   "cell_type": "code",
   "execution_count": null,
   "id": "6f3c87e0",
   "metadata": {},
   "outputs": [],
   "source": []
  }
 ],
 "metadata": {
  "kernelspec": {
   "display_name": "Python 3 (ipykernel)",
   "language": "python",
   "name": "python3"
  },
  "language_info": {
   "codemirror_mode": {
    "name": "ipython",
    "version": 3
   },
   "file_extension": ".py",
   "mimetype": "text/x-python",
   "name": "python",
   "nbconvert_exporter": "python",
   "pygments_lexer": "ipython3",
   "version": "3.12.4"
  }
 },
 "nbformat": 4,
 "nbformat_minor": 5
}
