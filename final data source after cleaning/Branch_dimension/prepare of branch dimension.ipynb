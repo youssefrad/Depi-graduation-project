{
 "cells": [
  {
   "cell_type": "markdown",
   "metadata": {},
   "source": [
    "## Data manipulation at branch file{csv}"
   ]
  },
  {
   "cell_type": "markdown",
   "metadata": {},
   "source": [
    "# look at data "
   ]
  },
  {
   "cell_type": "code",
   "execution_count": 1,
   "metadata": {},
   "outputs": [
    {
     "name": "stdout",
     "output_type": "stream",
     "text": [
      "Requirement already satisfied: pandas in c:\\users\\abdo\\appdata\\local\\packages\\pythonsoftwarefoundation.python.3.11_qbz5n2kfra8p0\\localcache\\local-packages\\python311\\site-packages (2.2.2)\n",
      "Requirement already satisfied: numpy>=1.23.2 in c:\\users\\abdo\\appdata\\local\\packages\\pythonsoftwarefoundation.python.3.11_qbz5n2kfra8p0\\localcache\\local-packages\\python311\\site-packages (from pandas) (2.1.0)\n",
      "Requirement already satisfied: python-dateutil>=2.8.2 in c:\\users\\abdo\\appdata\\local\\packages\\pythonsoftwarefoundation.python.3.11_qbz5n2kfra8p0\\localcache\\local-packages\\python311\\site-packages (from pandas) (2.9.0.post0)\n",
      "Requirement already satisfied: pytz>=2020.1 in c:\\users\\abdo\\appdata\\local\\packages\\pythonsoftwarefoundation.python.3.11_qbz5n2kfra8p0\\localcache\\local-packages\\python311\\site-packages (from pandas) (2024.1)\n",
      "Requirement already satisfied: tzdata>=2022.7 in c:\\users\\abdo\\appdata\\local\\packages\\pythonsoftwarefoundation.python.3.11_qbz5n2kfra8p0\\localcache\\local-packages\\python311\\site-packages (from pandas) (2024.1)\n",
      "Requirement already satisfied: six>=1.5 in c:\\users\\abdo\\appdata\\local\\packages\\pythonsoftwarefoundation.python.3.11_qbz5n2kfra8p0\\localcache\\local-packages\\python311\\site-packages (from python-dateutil>=2.8.2->pandas) (1.16.0)\n"
     ]
    }
   ],
   "source": [
    "#call the package for manpilation \n",
    "! pip install pandas "
   ]
  },
  {
   "cell_type": "code",
   "execution_count": 36,
   "metadata": {},
   "outputs": [],
   "source": [
    "import pandas as pd "
   ]
  },
  {
   "cell_type": "code",
   "execution_count": 94,
   "metadata": {},
   "outputs": [
    {
     "name": "stdout",
     "output_type": "stream",
     "text": [
      "<class 'pandas.core.frame.DataFrame'>\n",
      "RangeIndex: 1000 entries, 0 to 999\n",
      "Data columns (total 9 columns):\n",
      " #   Column               Non-Null Count  Dtype \n",
      "---  ------               --------------  ----- \n",
      " 0   branch_id            1000 non-null   int64 \n",
      " 1   branch_name          740 non-null    object\n",
      " 2   branch_manager       1000 non-null   object\n",
      " 3   branch_phone_number  1000 non-null   object\n",
      " 4   branch_opening_date  1000 non-null   object\n",
      " 5   branch_type          756 non-null    object\n",
      " 6   branch_stock_market  1000 non-null   object\n",
      " 7   branch_stock_symbol  1000 non-null   object\n",
      " 8   branch_country_code  1000 non-null   object\n",
      "dtypes: int64(1), object(8)\n",
      "memory usage: 70.4+ KB\n"
     ]
    }
   ],
   "source": [
    "df=pd.read_csv(\". Branch Dimension Table.csv\")\n",
    "df.info() # to show null values \n"
   ]
  },
  {
   "cell_type": "code",
   "execution_count": 89,
   "metadata": {},
   "outputs": [
    {
     "data": {
      "text/html": [
       "<div>\n",
       "<style scoped>\n",
       "    .dataframe tbody tr th:only-of-type {\n",
       "        vertical-align: middle;\n",
       "    }\n",
       "\n",
       "    .dataframe tbody tr th {\n",
       "        vertical-align: top;\n",
       "    }\n",
       "\n",
       "    .dataframe thead th {\n",
       "        text-align: right;\n",
       "    }\n",
       "</style>\n",
       "<table border=\"1\" class=\"dataframe\">\n",
       "  <thead>\n",
       "    <tr style=\"text-align: right;\">\n",
       "      <th></th>\n",
       "      <th>branch_id</th>\n",
       "      <th>branch_name</th>\n",
       "      <th>branch_manager</th>\n",
       "      <th>branch_phone_number</th>\n",
       "      <th>branch_opening_date</th>\n",
       "      <th>branch_type</th>\n",
       "      <th>branch_stock_market</th>\n",
       "      <th>branch_stock_symbol</th>\n",
       "      <th>branch_country_code</th>\n",
       "    </tr>\n",
       "  </thead>\n",
       "  <tbody>\n",
       "    <tr>\n",
       "      <th>0</th>\n",
       "      <td>1</td>\n",
       "      <td>NaN</td>\n",
       "      <td>Timothea Pavlenko</td>\n",
       "      <td>115-584-5246</td>\n",
       "      <td>3/25/2011</td>\n",
       "      <td>NaN</td>\n",
       "      <td>NYSE</td>\n",
       "      <td>EPD</td>\n",
       "      <td>TH</td>\n",
       "    </tr>\n",
       "    <tr>\n",
       "      <th>1</th>\n",
       "      <td>2</td>\n",
       "      <td>Branch B</td>\n",
       "      <td>Lorelei Borg-Bartolo</td>\n",
       "      <td>951-911-9848</td>\n",
       "      <td>1/26/2016</td>\n",
       "      <td>Corporate</td>\n",
       "      <td>NYSE</td>\n",
       "      <td>WD</td>\n",
       "      <td>ID</td>\n",
       "    </tr>\n",
       "    <tr>\n",
       "      <th>2</th>\n",
       "      <td>3</td>\n",
       "      <td>Branch B</td>\n",
       "      <td>Brandea Lilliman</td>\n",
       "      <td>561-184-4533</td>\n",
       "      <td>4/16/2014</td>\n",
       "      <td>Retail</td>\n",
       "      <td>NASDAQ</td>\n",
       "      <td>SWIN</td>\n",
       "      <td>PL</td>\n",
       "    </tr>\n",
       "    <tr>\n",
       "      <th>3</th>\n",
       "      <td>4</td>\n",
       "      <td>Branch B</td>\n",
       "      <td>Vasili Readings</td>\n",
       "      <td>891-269-9668</td>\n",
       "      <td>6/27/2006</td>\n",
       "      <td>Retail</td>\n",
       "      <td>NASDAQ</td>\n",
       "      <td>FRBK</td>\n",
       "      <td>ID</td>\n",
       "    </tr>\n",
       "    <tr>\n",
       "      <th>4</th>\n",
       "      <td>5</td>\n",
       "      <td>Branch A</td>\n",
       "      <td>Gerta Dunne</td>\n",
       "      <td>463-910-1235</td>\n",
       "      <td>10/2/2010</td>\n",
       "      <td>Retail</td>\n",
       "      <td>NASDAQ</td>\n",
       "      <td>LOAN</td>\n",
       "      <td>TH</td>\n",
       "    </tr>\n",
       "    <tr>\n",
       "      <th>...</th>\n",
       "      <td>...</td>\n",
       "      <td>...</td>\n",
       "      <td>...</td>\n",
       "      <td>...</td>\n",
       "      <td>...</td>\n",
       "      <td>...</td>\n",
       "      <td>...</td>\n",
       "      <td>...</td>\n",
       "      <td>...</td>\n",
       "    </tr>\n",
       "    <tr>\n",
       "      <th>995</th>\n",
       "      <td>996</td>\n",
       "      <td>NaN</td>\n",
       "      <td>Pinchas Peller</td>\n",
       "      <td>802-975-6895</td>\n",
       "      <td>4/17/2014</td>\n",
       "      <td>University</td>\n",
       "      <td>NYSE</td>\n",
       "      <td>KN</td>\n",
       "      <td>PH</td>\n",
       "    </tr>\n",
       "    <tr>\n",
       "      <th>996</th>\n",
       "      <td>997</td>\n",
       "      <td>Branch C</td>\n",
       "      <td>Ambrose Lanegran</td>\n",
       "      <td>641-417-3703</td>\n",
       "      <td>3/25/2007</td>\n",
       "      <td>NaN</td>\n",
       "      <td>NASDAQ</td>\n",
       "      <td>CEZ</td>\n",
       "      <td>AL</td>\n",
       "    </tr>\n",
       "    <tr>\n",
       "      <th>997</th>\n",
       "      <td>998</td>\n",
       "      <td>Branch C</td>\n",
       "      <td>Wenda Worling</td>\n",
       "      <td>237-312-1210</td>\n",
       "      <td>6/8/2011</td>\n",
       "      <td>NaN</td>\n",
       "      <td>NASDAQ</td>\n",
       "      <td>APOPW</td>\n",
       "      <td>MN</td>\n",
       "    </tr>\n",
       "    <tr>\n",
       "      <th>998</th>\n",
       "      <td>999</td>\n",
       "      <td>Branch B</td>\n",
       "      <td>Mallorie Robiou</td>\n",
       "      <td>694-297-6871</td>\n",
       "      <td>11/6/2003</td>\n",
       "      <td>Retail</td>\n",
       "      <td>NASDAQ</td>\n",
       "      <td>IRDM</td>\n",
       "      <td>ID</td>\n",
       "    </tr>\n",
       "    <tr>\n",
       "      <th>999</th>\n",
       "      <td>1000</td>\n",
       "      <td>Branch C</td>\n",
       "      <td>Franky Reinard</td>\n",
       "      <td>187-446-7126</td>\n",
       "      <td>8/15/2003</td>\n",
       "      <td>NaN</td>\n",
       "      <td>NASDAQ</td>\n",
       "      <td>BNTCW</td>\n",
       "      <td>PE</td>\n",
       "    </tr>\n",
       "  </tbody>\n",
       "</table>\n",
       "<p>1000 rows × 9 columns</p>\n",
       "</div>"
      ],
      "text/plain": [
       "     branch_id branch_name        branch_manager branch_phone_number branch_opening_date branch_type branch_stock_market branch_stock_symbol branch_country_code\n",
       "0            1         NaN     Timothea Pavlenko        115-584-5246           3/25/2011         NaN                NYSE                 EPD                  TH\n",
       "1            2    Branch B  Lorelei Borg-Bartolo        951-911-9848           1/26/2016   Corporate                NYSE                  WD                  ID\n",
       "2            3    Branch B      Brandea Lilliman        561-184-4533           4/16/2014      Retail              NASDAQ                SWIN                  PL\n",
       "3            4    Branch B       Vasili Readings        891-269-9668           6/27/2006      Retail              NASDAQ                FRBK                  ID\n",
       "4            5    Branch A           Gerta Dunne        463-910-1235           10/2/2010      Retail              NASDAQ                LOAN                  TH\n",
       "..         ...         ...                   ...                 ...                 ...         ...                 ...                 ...                 ...\n",
       "995        996         NaN        Pinchas Peller        802-975-6895           4/17/2014  University                NYSE                  KN                  PH\n",
       "996        997    Branch C      Ambrose Lanegran        641-417-3703           3/25/2007         NaN              NASDAQ                 CEZ                  AL\n",
       "997        998    Branch C         Wenda Worling        237-312-1210            6/8/2011         NaN              NASDAQ               APOPW                  MN\n",
       "998        999    Branch B       Mallorie Robiou        694-297-6871           11/6/2003      Retail              NASDAQ                IRDM                  ID\n",
       "999       1000    Branch C        Franky Reinard        187-446-7126           8/15/2003         NaN              NASDAQ               BNTCW                  PE\n",
       "\n",
       "[1000 rows x 9 columns]"
      ]
     },
     "execution_count": 89,
     "metadata": {},
     "output_type": "execute_result"
    }
   ],
   "source": [
    "#pd.set_option('display.expand_frame_repr', False)  # Prevent line wrapping\n",
    "#df.index +=1\n",
    "df"
   ]
  },
  {
   "cell_type": "code",
   "execution_count": 90,
   "metadata": {},
   "outputs": [
    {
     "data": {
      "text/plain": [
       "branch_id              1000\n",
       "branch_name             740\n",
       "branch_manager         1000\n",
       "branch_phone_number    1000\n",
       "branch_opening_date    1000\n",
       "branch_type             756\n",
       "branch_stock_market    1000\n",
       "branch_stock_symbol    1000\n",
       "branch_country_code    1000\n",
       "dtype: int64"
      ]
     },
     "execution_count": 90,
     "metadata": {},
     "output_type": "execute_result"
    }
   ],
   "source": [
    "df.count() # to show how many nuull and missing value "
   ]
  },
  {
   "cell_type": "markdown",
   "metadata": {},
   "source": [
    "# replace null values at branch_name   with random values between branch A,B,C"
   ]
  },
  {
   "cell_type": "code",
   "execution_count": 95,
   "metadata": {},
   "outputs": [
    {
     "name": "stdout",
     "output_type": "stream",
     "text": [
      "Number of nulls before: 260\n",
      "Number of nulls after: 0\n"
     ]
    },
    {
     "data": {
      "text/html": [
       "<div>\n",
       "<style scoped>\n",
       "    .dataframe tbody tr th:only-of-type {\n",
       "        vertical-align: middle;\n",
       "    }\n",
       "\n",
       "    .dataframe tbody tr th {\n",
       "        vertical-align: top;\n",
       "    }\n",
       "\n",
       "    .dataframe thead th {\n",
       "        text-align: right;\n",
       "    }\n",
       "</style>\n",
       "<table border=\"1\" class=\"dataframe\">\n",
       "  <thead>\n",
       "    <tr style=\"text-align: right;\">\n",
       "      <th></th>\n",
       "      <th>branch_id</th>\n",
       "      <th>branch_name</th>\n",
       "      <th>branch_manager</th>\n",
       "      <th>branch_phone_number</th>\n",
       "      <th>branch_opening_date</th>\n",
       "      <th>branch_type</th>\n",
       "      <th>branch_stock_market</th>\n",
       "      <th>branch_stock_symbol</th>\n",
       "      <th>branch_country_code</th>\n",
       "    </tr>\n",
       "  </thead>\n",
       "  <tbody>\n",
       "    <tr>\n",
       "      <th>0</th>\n",
       "      <td>1</td>\n",
       "      <td>Branch A</td>\n",
       "      <td>Timothea Pavlenko</td>\n",
       "      <td>115-584-5246</td>\n",
       "      <td>3/25/2011</td>\n",
       "      <td>NaN</td>\n",
       "      <td>NYSE</td>\n",
       "      <td>EPD</td>\n",
       "      <td>TH</td>\n",
       "    </tr>\n",
       "    <tr>\n",
       "      <th>1</th>\n",
       "      <td>2</td>\n",
       "      <td>Branch B</td>\n",
       "      <td>Lorelei Borg-Bartolo</td>\n",
       "      <td>951-911-9848</td>\n",
       "      <td>1/26/2016</td>\n",
       "      <td>Corporate</td>\n",
       "      <td>NYSE</td>\n",
       "      <td>WD</td>\n",
       "      <td>ID</td>\n",
       "    </tr>\n",
       "    <tr>\n",
       "      <th>2</th>\n",
       "      <td>3</td>\n",
       "      <td>Branch B</td>\n",
       "      <td>Brandea Lilliman</td>\n",
       "      <td>561-184-4533</td>\n",
       "      <td>4/16/2014</td>\n",
       "      <td>Retail</td>\n",
       "      <td>NASDAQ</td>\n",
       "      <td>SWIN</td>\n",
       "      <td>PL</td>\n",
       "    </tr>\n",
       "    <tr>\n",
       "      <th>3</th>\n",
       "      <td>4</td>\n",
       "      <td>Branch B</td>\n",
       "      <td>Vasili Readings</td>\n",
       "      <td>891-269-9668</td>\n",
       "      <td>6/27/2006</td>\n",
       "      <td>Retail</td>\n",
       "      <td>NASDAQ</td>\n",
       "      <td>FRBK</td>\n",
       "      <td>ID</td>\n",
       "    </tr>\n",
       "    <tr>\n",
       "      <th>4</th>\n",
       "      <td>5</td>\n",
       "      <td>Branch A</td>\n",
       "      <td>Gerta Dunne</td>\n",
       "      <td>463-910-1235</td>\n",
       "      <td>10/2/2010</td>\n",
       "      <td>Retail</td>\n",
       "      <td>NASDAQ</td>\n",
       "      <td>LOAN</td>\n",
       "      <td>TH</td>\n",
       "    </tr>\n",
       "    <tr>\n",
       "      <th>...</th>\n",
       "      <td>...</td>\n",
       "      <td>...</td>\n",
       "      <td>...</td>\n",
       "      <td>...</td>\n",
       "      <td>...</td>\n",
       "      <td>...</td>\n",
       "      <td>...</td>\n",
       "      <td>...</td>\n",
       "      <td>...</td>\n",
       "    </tr>\n",
       "    <tr>\n",
       "      <th>995</th>\n",
       "      <td>996</td>\n",
       "      <td>Branch A</td>\n",
       "      <td>Pinchas Peller</td>\n",
       "      <td>802-975-6895</td>\n",
       "      <td>4/17/2014</td>\n",
       "      <td>University</td>\n",
       "      <td>NYSE</td>\n",
       "      <td>KN</td>\n",
       "      <td>PH</td>\n",
       "    </tr>\n",
       "    <tr>\n",
       "      <th>996</th>\n",
       "      <td>997</td>\n",
       "      <td>Branch C</td>\n",
       "      <td>Ambrose Lanegran</td>\n",
       "      <td>641-417-3703</td>\n",
       "      <td>3/25/2007</td>\n",
       "      <td>NaN</td>\n",
       "      <td>NASDAQ</td>\n",
       "      <td>CEZ</td>\n",
       "      <td>AL</td>\n",
       "    </tr>\n",
       "    <tr>\n",
       "      <th>997</th>\n",
       "      <td>998</td>\n",
       "      <td>Branch C</td>\n",
       "      <td>Wenda Worling</td>\n",
       "      <td>237-312-1210</td>\n",
       "      <td>6/8/2011</td>\n",
       "      <td>NaN</td>\n",
       "      <td>NASDAQ</td>\n",
       "      <td>APOPW</td>\n",
       "      <td>MN</td>\n",
       "    </tr>\n",
       "    <tr>\n",
       "      <th>998</th>\n",
       "      <td>999</td>\n",
       "      <td>Branch B</td>\n",
       "      <td>Mallorie Robiou</td>\n",
       "      <td>694-297-6871</td>\n",
       "      <td>11/6/2003</td>\n",
       "      <td>Retail</td>\n",
       "      <td>NASDAQ</td>\n",
       "      <td>IRDM</td>\n",
       "      <td>ID</td>\n",
       "    </tr>\n",
       "    <tr>\n",
       "      <th>999</th>\n",
       "      <td>1000</td>\n",
       "      <td>Branch C</td>\n",
       "      <td>Franky Reinard</td>\n",
       "      <td>187-446-7126</td>\n",
       "      <td>8/15/2003</td>\n",
       "      <td>NaN</td>\n",
       "      <td>NASDAQ</td>\n",
       "      <td>BNTCW</td>\n",
       "      <td>PE</td>\n",
       "    </tr>\n",
       "  </tbody>\n",
       "</table>\n",
       "<p>1000 rows × 9 columns</p>\n",
       "</div>"
      ],
      "text/plain": [
       "     branch_id branch_name        branch_manager branch_phone_number branch_opening_date branch_type branch_stock_market branch_stock_symbol branch_country_code\n",
       "0            1    Branch A     Timothea Pavlenko        115-584-5246           3/25/2011         NaN                NYSE                 EPD                  TH\n",
       "1            2    Branch B  Lorelei Borg-Bartolo        951-911-9848           1/26/2016   Corporate                NYSE                  WD                  ID\n",
       "2            3    Branch B      Brandea Lilliman        561-184-4533           4/16/2014      Retail              NASDAQ                SWIN                  PL\n",
       "3            4    Branch B       Vasili Readings        891-269-9668           6/27/2006      Retail              NASDAQ                FRBK                  ID\n",
       "4            5    Branch A           Gerta Dunne        463-910-1235           10/2/2010      Retail              NASDAQ                LOAN                  TH\n",
       "..         ...         ...                   ...                 ...                 ...         ...                 ...                 ...                 ...\n",
       "995        996    Branch A        Pinchas Peller        802-975-6895           4/17/2014  University                NYSE                  KN                  PH\n",
       "996        997    Branch C      Ambrose Lanegran        641-417-3703           3/25/2007         NaN              NASDAQ                 CEZ                  AL\n",
       "997        998    Branch C         Wenda Worling        237-312-1210            6/8/2011         NaN              NASDAQ               APOPW                  MN\n",
       "998        999    Branch B       Mallorie Robiou        694-297-6871           11/6/2003      Retail              NASDAQ                IRDM                  ID\n",
       "999       1000    Branch C        Franky Reinard        187-446-7126           8/15/2003         NaN              NASDAQ               BNTCW                  PE\n",
       "\n",
       "[1000 rows x 9 columns]"
      ]
     },
     "execution_count": 95,
     "metadata": {},
     "output_type": "execute_result"
    }
   ],
   "source": [
    "# to get this method random.choice\n",
    "import numpy as np\n",
    "\n",
    "# Choices to replace NaN values\n",
    "choices = [\"Branch A\", \"Branch B\", \"Branch C\"]\n",
    "\n",
    "# Count the number of null values in the branch_name column\n",
    "num_nulls = df['branch_name'].isna().sum()\n",
    "print(\"Number of nulls before:\", num_nulls)\n",
    "\n",
    "# Create a mask for NaN values\n",
    "nan_mask = df['branch_name'].isna()\n",
    "\n",
    "# Fill NaN values in branch_name with random choices\n",
    "df.loc[nan_mask, 'branch_name'] = np.random.choice(choices, size=num_nulls)\n",
    "\n",
    "# Verify the replacement\n",
    "num_nulls = df['branch_name'].isna().sum()\n",
    "print(\"Number of nulls after:\", num_nulls)\n",
    "\n",
    "# Display the updated DataFrame\n",
    "df\n",
    "\n"
   ]
  },
  {
   "cell_type": "code",
   "execution_count": 81,
   "metadata": {},
   "outputs": [
    {
     "data": {
      "text/plain": [
       "branch_id              1000\n",
       "branch_name            1000\n",
       "branch_manager         1000\n",
       "branch_phone_number    1000\n",
       "branch_opening_date    1000\n",
       "branch_type             756\n",
       "branch_stock_market    1000\n",
       "branch_stock_symbol    1000\n",
       "branch_country_code    1000\n",
       "dtype: int64"
      ]
     },
     "execution_count": 81,
     "metadata": {},
     "output_type": "execute_result"
    }
   ],
   "source": [
    "df.count() # to show how many nuull and missing value "
   ]
  },
  {
   "cell_type": "code",
   "execution_count": 99,
   "metadata": {},
   "outputs": [
    {
     "name": "stdout",
     "output_type": "stream",
     "text": [
      "number of Nulls vales before cleaning is : 0\n",
      "number of Nulls vales before cleaning is : 0\n"
     ]
    },
    {
     "data": {
      "text/plain": [
       "branch_id              0\n",
       "branch_name            0\n",
       "branch_manager         0\n",
       "branch_phone_number    0\n",
       "branch_opening_date    0\n",
       "branch_type            0\n",
       "branch_stock_market    0\n",
       "branch_stock_symbol    0\n",
       "branch_country_code    0\n",
       "dtype: int64"
      ]
     },
     "execution_count": 99,
     "metadata": {},
     "output_type": "execute_result"
    }
   ],
   "source": [
    "# to get this method random.choice\n",
    "import numpy as np  \n",
    "\n",
    "choices=['Corporate','University','Retail']\n",
    "\n",
    "#get number of null at branch_type            \n",
    "null_uums =df['branch_type'].isna().sum()\n",
    "print('number of Nulls vales before cleaning is :',null_uums)\n",
    "\n",
    "#clean data \n",
    "null_uum=df['branch_type'].isna()\n",
    "df.loc[null_uum,'branch_type']=np.random.choice(choices,size=null_uums)\n",
    "\n",
    "#check\n",
    "null_uums =df['branch_type'].isna().sum()\n",
    "print('number of Nulls vales before cleaning is :',null_uums)\n",
    "\n",
    "df.isna().sum()\n"
   ]
  },
  {
   "cell_type": "code",
   "execution_count": 100,
   "metadata": {},
   "outputs": [
    {
     "data": {
      "text/plain": [
       "branch_id              1000\n",
       "branch_name            1000\n",
       "branch_manager         1000\n",
       "branch_phone_number    1000\n",
       "branch_opening_date    1000\n",
       "branch_type            1000\n",
       "branch_stock_market    1000\n",
       "branch_stock_symbol    1000\n",
       "branch_country_code    1000\n",
       "dtype: int64"
      ]
     },
     "execution_count": 100,
     "metadata": {},
     "output_type": "execute_result"
    }
   ],
   "source": [
    "df.count() # to show how many nuull and missing value "
   ]
  },
  {
   "cell_type": "markdown",
   "metadata": {},
   "source": [
    "# load  cleaned data"
   ]
  },
  {
   "cell_type": "code",
   "execution_count": 97,
   "metadata": {},
   "outputs": [],
   "source": [
    "# Save the updated DataFrame to a CSV file without the index\n",
    "df.to_csv(\"Branch_Dimension_new.csv\", index=False)\n"
   ]
  }
 ],
 "metadata": {
  "kernelspec": {
   "display_name": "Python 3",
   "language": "python",
   "name": "python3"
  },
  "language_info": {
   "codemirror_mode": {
    "name": "ipython",
    "version": 3
   },
   "file_extension": ".py",
   "mimetype": "text/x-python",
   "name": "python",
   "nbconvert_exporter": "python",
   "pygments_lexer": "ipython3",
   "version": "3.11.9"
  }
 },
 "nbformat": 4,
 "nbformat_minor": 2
}
