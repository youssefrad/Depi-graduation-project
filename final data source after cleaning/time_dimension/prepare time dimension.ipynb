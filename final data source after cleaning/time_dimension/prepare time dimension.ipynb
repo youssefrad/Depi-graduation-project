{
 "cells": [
  {
   "cell_type": "markdown",
   "metadata": {},
   "source": [
    "# look at data "
   ]
  },
  {
   "cell_type": "code",
   "execution_count": 2,
   "metadata": {},
   "outputs": [],
   "source": [
    "import pandas as pd "
   ]
  },
  {
   "cell_type": "code",
   "execution_count": 6,
   "metadata": {},
   "outputs": [
    {
     "data": {
      "text/html": [
       "<div>\n",
       "<style scoped>\n",
       "    .dataframe tbody tr th:only-of-type {\n",
       "        vertical-align: middle;\n",
       "    }\n",
       "\n",
       "    .dataframe tbody tr th {\n",
       "        vertical-align: top;\n",
       "    }\n",
       "\n",
       "    .dataframe thead th {\n",
       "        text-align: right;\n",
       "    }\n",
       "</style>\n",
       "<table border=\"1\" class=\"dataframe\">\n",
       "  <thead>\n",
       "    <tr style=\"text-align: right;\">\n",
       "      <th></th>\n",
       "      <th>time_id</th>\n",
       "      <th>year</th>\n",
       "      <th>month</th>\n",
       "      <th>day</th>\n",
       "      <th>hour</th>\n",
       "      <th>minute</th>\n",
       "      <th>second</th>\n",
       "      <th>quarter</th>\n",
       "      <th>season</th>\n",
       "      <th>is_weekend</th>\n",
       "    </tr>\n",
       "  </thead>\n",
       "  <tbody>\n",
       "    <tr>\n",
       "      <th>1</th>\n",
       "      <td>1</td>\n",
       "      <td>2024</td>\n",
       "      <td>4</td>\n",
       "      <td>6</td>\n",
       "      <td>20</td>\n",
       "      <td>14</td>\n",
       "      <td>51</td>\n",
       "      <td>Q1</td>\n",
       "      <td>Spring</td>\n",
       "      <td>True</td>\n",
       "    </tr>\n",
       "    <tr>\n",
       "      <th>2</th>\n",
       "      <td>2</td>\n",
       "      <td>1900</td>\n",
       "      <td>2</td>\n",
       "      <td>9</td>\n",
       "      <td>11</td>\n",
       "      <td>44</td>\n",
       "      <td>35</td>\n",
       "      <td>Q3</td>\n",
       "      <td>Summer</td>\n",
       "      <td>False</td>\n",
       "    </tr>\n",
       "    <tr>\n",
       "      <th>3</th>\n",
       "      <td>3</td>\n",
       "      <td>1993</td>\n",
       "      <td>2</td>\n",
       "      <td>29</td>\n",
       "      <td>19</td>\n",
       "      <td>40</td>\n",
       "      <td>4</td>\n",
       "      <td>NaN</td>\n",
       "      <td>NaN</td>\n",
       "      <td>True</td>\n",
       "    </tr>\n",
       "    <tr>\n",
       "      <th>4</th>\n",
       "      <td>4</td>\n",
       "      <td>1981</td>\n",
       "      <td>12</td>\n",
       "      <td>31</td>\n",
       "      <td>4</td>\n",
       "      <td>31</td>\n",
       "      <td>57</td>\n",
       "      <td>Q1</td>\n",
       "      <td>Fall</td>\n",
       "      <td>False</td>\n",
       "    </tr>\n",
       "    <tr>\n",
       "      <th>5</th>\n",
       "      <td>5</td>\n",
       "      <td>1941</td>\n",
       "      <td>12</td>\n",
       "      <td>31</td>\n",
       "      <td>3</td>\n",
       "      <td>24</td>\n",
       "      <td>41</td>\n",
       "      <td>Q2</td>\n",
       "      <td>Fall</td>\n",
       "      <td>NaN</td>\n",
       "    </tr>\n",
       "    <tr>\n",
       "      <th>...</th>\n",
       "      <td>...</td>\n",
       "      <td>...</td>\n",
       "      <td>...</td>\n",
       "      <td>...</td>\n",
       "      <td>...</td>\n",
       "      <td>...</td>\n",
       "      <td>...</td>\n",
       "      <td>...</td>\n",
       "      <td>...</td>\n",
       "      <td>...</td>\n",
       "    </tr>\n",
       "    <tr>\n",
       "      <th>996</th>\n",
       "      <td>996</td>\n",
       "      <td>1966</td>\n",
       "      <td>11</td>\n",
       "      <td>11</td>\n",
       "      <td>21</td>\n",
       "      <td>5</td>\n",
       "      <td>46</td>\n",
       "      <td>NaN</td>\n",
       "      <td>Spring</td>\n",
       "      <td>False</td>\n",
       "    </tr>\n",
       "    <tr>\n",
       "      <th>997</th>\n",
       "      <td>997</td>\n",
       "      <td>1900</td>\n",
       "      <td>8</td>\n",
       "      <td>24</td>\n",
       "      <td>7</td>\n",
       "      <td>55</td>\n",
       "      <td>8</td>\n",
       "      <td>Q1</td>\n",
       "      <td>Summer</td>\n",
       "      <td>False</td>\n",
       "    </tr>\n",
       "    <tr>\n",
       "      <th>998</th>\n",
       "      <td>998</td>\n",
       "      <td>2092</td>\n",
       "      <td>7</td>\n",
       "      <td>4</td>\n",
       "      <td>22</td>\n",
       "      <td>5</td>\n",
       "      <td>14</td>\n",
       "      <td>NaN</td>\n",
       "      <td>Fall</td>\n",
       "      <td>False</td>\n",
       "    </tr>\n",
       "    <tr>\n",
       "      <th>999</th>\n",
       "      <td>999</td>\n",
       "      <td>2006</td>\n",
       "      <td>8</td>\n",
       "      <td>26</td>\n",
       "      <td>23</td>\n",
       "      <td>17</td>\n",
       "      <td>7</td>\n",
       "      <td>Q2</td>\n",
       "      <td>Fall</td>\n",
       "      <td>False</td>\n",
       "    </tr>\n",
       "    <tr>\n",
       "      <th>1000</th>\n",
       "      <td>1000</td>\n",
       "      <td>1996</td>\n",
       "      <td>2</td>\n",
       "      <td>2</td>\n",
       "      <td>23</td>\n",
       "      <td>25</td>\n",
       "      <td>11</td>\n",
       "      <td>Q2</td>\n",
       "      <td>Spring</td>\n",
       "      <td>False</td>\n",
       "    </tr>\n",
       "  </tbody>\n",
       "</table>\n",
       "<p>1000 rows × 10 columns</p>\n",
       "</div>"
      ],
      "text/plain": [
       "      time_id  year  month  day  hour  minute  second quarter  season  \\\n",
       "1           1  2024      4    6    20      14      51      Q1  Spring   \n",
       "2           2  1900      2    9    11      44      35      Q3  Summer   \n",
       "3           3  1993      2   29    19      40       4     NaN     NaN   \n",
       "4           4  1981     12   31     4      31      57      Q1    Fall   \n",
       "5           5  1941     12   31     3      24      41      Q2    Fall   \n",
       "...       ...   ...    ...  ...   ...     ...     ...     ...     ...   \n",
       "996       996  1966     11   11    21       5      46     NaN  Spring   \n",
       "997       997  1900      8   24     7      55       8      Q1  Summer   \n",
       "998       998  2092      7    4    22       5      14     NaN    Fall   \n",
       "999       999  2006      8   26    23      17       7      Q2    Fall   \n",
       "1000     1000  1996      2    2    23      25      11      Q2  Spring   \n",
       "\n",
       "     is_weekend  \n",
       "1          True  \n",
       "2         False  \n",
       "3          True  \n",
       "4         False  \n",
       "5           NaN  \n",
       "...         ...  \n",
       "996       False  \n",
       "997       False  \n",
       "998       False  \n",
       "999       False  \n",
       "1000      False  \n",
       "\n",
       "[1000 rows x 10 columns]"
      ]
     },
     "execution_count": 6,
     "metadata": {},
     "output_type": "execute_result"
    }
   ],
   "source": [
    "df=pd.read_csv(r\"C:\\Users\\Abdo\\Desktop\\Graduation_project\\data source\\Time Dimension.txt\",delimiter='\\t')\n",
    "df.index+=1\n",
    "df"
   ]
  },
  {
   "cell_type": "code",
   "execution_count": 7,
   "metadata": {},
   "outputs": [
    {
     "data": {
      "text/plain": [
       "time_id         0\n",
       "year            0\n",
       "month           0\n",
       "day             0\n",
       "hour            0\n",
       "minute          0\n",
       "second          0\n",
       "quarter       217\n",
       "season        197\n",
       "is_weekend    110\n",
       "dtype: int64"
      ]
     },
     "execution_count": 7,
     "metadata": {},
     "output_type": "execute_result"
    }
   ],
   "source": [
    "df.isna().sum()"
   ]
  },
  {
   "cell_type": "code",
   "execution_count": 8,
   "metadata": {},
   "outputs": [
    {
     "data": {
      "text/plain": [
       "time_id       1000\n",
       "year          1000\n",
       "month         1000\n",
       "day           1000\n",
       "hour          1000\n",
       "minute        1000\n",
       "second        1000\n",
       "quarter        783\n",
       "season         803\n",
       "is_weekend     890\n",
       "dtype: int64"
      ]
     },
     "execution_count": 8,
     "metadata": {},
     "output_type": "execute_result"
    }
   ],
   "source": [
    "df.count()"
   ]
  },
  {
   "cell_type": "markdown",
   "metadata": {},
   "source": [
    "# prepare quarter attribute "
   ]
  },
  {
   "cell_type": "code",
   "execution_count": 9,
   "metadata": {},
   "outputs": [
    {
     "data": {
      "text/plain": [
       "array(['Q1', 'Q3', nan, 'Q2', 'Q4'], dtype=object)"
      ]
     },
     "execution_count": 9,
     "metadata": {},
     "output_type": "execute_result"
    }
   ],
   "source": [
    "# to determine the unique value\n",
    "df['quarter'].unique()"
   ]
  },
  {
   "cell_type": "code",
   "execution_count": 10,
   "metadata": {},
   "outputs": [
    {
     "name": "stdout",
     "output_type": "stream",
     "text": [
      "number of nulls before cleaning: 217\n",
      "number of nulls after cleaning : 0\n"
     ]
    },
    {
     "data": {
      "text/plain": [
       "time_id         0\n",
       "year            0\n",
       "month           0\n",
       "day             0\n",
       "hour            0\n",
       "minute          0\n",
       "second          0\n",
       "quarter         0\n",
       "season        197\n",
       "is_weekend    110\n",
       "dtype: int64"
      ]
     },
     "execution_count": 10,
     "metadata": {},
     "output_type": "execute_result"
    }
   ],
   "source": [
    "import numpy as np\n",
    "#replacr and clean data \n",
    "replace=['Q1','Q2','Q3','Q4']\n",
    "\n",
    "uum_nulls=df['quarter'].isna().sum()\n",
    "print(f'number of nulls before cleaning: {uum_nulls}')\n",
    "\n",
    "num_null=df['quarter'].isna()\n",
    "df.loc[num_null,'quarter']=np.random.choice(replace,size=uum_nulls)\n",
    "\n",
    "\n",
    "uum_nulls=df['quarter'].isna().sum()\n",
    "print(f'number of nulls after cleaning : {uum_nulls}')\n",
    "\n",
    "\n",
    "df.isna().sum()"
   ]
  },
  {
   "cell_type": "code",
   "execution_count": 11,
   "metadata": {},
   "outputs": [
    {
     "data": {
      "text/plain": [
       "array(['Q1', 'Q3', 'Q2', 'Q4'], dtype=object)"
      ]
     },
     "execution_count": 11,
     "metadata": {},
     "output_type": "execute_result"
    }
   ],
   "source": [
    "#to check data is cleaned \n",
    "df['quarter'].unique()"
   ]
  },
  {
   "cell_type": "markdown",
   "metadata": {},
   "source": [
    "# prepare season attribute "
   ]
  },
  {
   "cell_type": "code",
   "execution_count": 12,
   "metadata": {},
   "outputs": [
    {
     "data": {
      "text/plain": [
       "time_id         0\n",
       "year            0\n",
       "month           0\n",
       "day             0\n",
       "hour            0\n",
       "minute          0\n",
       "second          0\n",
       "quarter         0\n",
       "season        197\n",
       "is_weekend    110\n",
       "dtype: int64"
      ]
     },
     "execution_count": 12,
     "metadata": {},
     "output_type": "execute_result"
    }
   ],
   "source": [
    "df.isna().sum()"
   ]
  },
  {
   "cell_type": "code",
   "execution_count": 13,
   "metadata": {},
   "outputs": [
    {
     "data": {
      "text/plain": [
       "array(['Spring', 'Summer', nan, 'Fall', 'Winter'], dtype=object)"
      ]
     },
     "execution_count": 13,
     "metadata": {},
     "output_type": "execute_result"
    }
   ],
   "source": [
    "# to determine the unique value\n",
    "df['season'].unique()"
   ]
  },
  {
   "cell_type": "code",
   "execution_count": 14,
   "metadata": {},
   "outputs": [
    {
     "name": "stdout",
     "output_type": "stream",
     "text": [
      "number of nulls before cleaning: 197\n",
      "number of nulls after cleaning : 0\n"
     ]
    },
    {
     "data": {
      "text/plain": [
       "time_id         0\n",
       "year            0\n",
       "month           0\n",
       "day             0\n",
       "hour            0\n",
       "minute          0\n",
       "second          0\n",
       "quarter         0\n",
       "season          0\n",
       "is_weekend    110\n",
       "dtype: int64"
      ]
     },
     "execution_count": 14,
     "metadata": {},
     "output_type": "execute_result"
    }
   ],
   "source": [
    "import numpy as np\n",
    "#replacr and clean data \n",
    "replace=['Spring', 'Summer','Fall','Winter']\n",
    "\n",
    "uum_nulls=df['season'].isna().sum()\n",
    "print(f'number of nulls before cleaning: {uum_nulls}')\n",
    "\n",
    "num_null=df['season'].isna()\n",
    "df.loc[num_null,'season']=np.random.choice(replace,size=uum_nulls)\n",
    "\n",
    "\n",
    "uum_nulls=df['season'].isna().sum()\n",
    "print(f'number of nulls after cleaning : {uum_nulls}')\n",
    "\n",
    "\n",
    "df.isna().sum()"
   ]
  },
  {
   "cell_type": "code",
   "execution_count": 15,
   "metadata": {},
   "outputs": [
    {
     "data": {
      "text/plain": [
       "array(['Spring', 'Summer', 'Winter', 'Fall'], dtype=object)"
      ]
     },
     "execution_count": 15,
     "metadata": {},
     "output_type": "execute_result"
    }
   ],
   "source": [
    "# to ensure the data is cleaned \n",
    "df['season'].unique()"
   ]
  },
  {
   "cell_type": "markdown",
   "metadata": {},
   "source": [
    "# prepare the is_weekend attribute "
   ]
  },
  {
   "cell_type": "code",
   "execution_count": 16,
   "metadata": {},
   "outputs": [
    {
     "data": {
      "text/plain": [
       "array([True, False, nan], dtype=object)"
      ]
     },
     "execution_count": 16,
     "metadata": {},
     "output_type": "execute_result"
    }
   ],
   "source": [
    "# to determine the unique value\n",
    "df['is_weekend'].unique()"
   ]
  },
  {
   "cell_type": "code",
   "execution_count": 17,
   "metadata": {},
   "outputs": [
    {
     "data": {
      "text/plain": [
       "time_id         0\n",
       "year            0\n",
       "month           0\n",
       "day             0\n",
       "hour            0\n",
       "minute          0\n",
       "second          0\n",
       "quarter         0\n",
       "season          0\n",
       "is_weekend    110\n",
       "dtype: int64"
      ]
     },
     "execution_count": 17,
     "metadata": {},
     "output_type": "execute_result"
    }
   ],
   "source": [
    "df.isna().sum()"
   ]
  },
  {
   "cell_type": "code",
   "execution_count": 18,
   "metadata": {},
   "outputs": [
    {
     "name": "stdout",
     "output_type": "stream",
     "text": [
      "number of nulls before cleaning: 110\n",
      "number of nulls after cleaning : 0\n"
     ]
    },
    {
     "data": {
      "text/plain": [
       "time_id       0\n",
       "year          0\n",
       "month         0\n",
       "day           0\n",
       "hour          0\n",
       "minute        0\n",
       "second        0\n",
       "quarter       0\n",
       "season        0\n",
       "is_weekend    0\n",
       "dtype: int64"
      ]
     },
     "execution_count": 18,
     "metadata": {},
     "output_type": "execute_result"
    }
   ],
   "source": [
    "import numpy as np\n",
    "#replacr and clean data \n",
    "replace=[True, False]\n",
    "\n",
    "uum_nulls=df['is_weekend'].isna().sum()\n",
    "print(f'number of nulls before cleaning: {uum_nulls}')\n",
    "\n",
    "num_null=df['is_weekend'].isna()\n",
    "df.loc[num_null,'is_weekend']=np.random.choice(replace,size=uum_nulls)\n",
    "\n",
    "\n",
    "uum_nulls=df['is_weekend'].isna().sum()\n",
    "print(f'number of nulls after cleaning : {uum_nulls}')\n",
    "\n",
    "\n",
    "df.isna().sum()"
   ]
  },
  {
   "cell_type": "code",
   "execution_count": 19,
   "metadata": {},
   "outputs": [
    {
     "data": {
      "text/plain": [
       "array([True, False], dtype=object)"
      ]
     },
     "execution_count": 19,
     "metadata": {},
     "output_type": "execute_result"
    }
   ],
   "source": [
    "# to ensure data is cleaned \n",
    "df['is_weekend'].unique()"
   ]
  },
  {
   "cell_type": "code",
   "execution_count": 20,
   "metadata": {},
   "outputs": [
    {
     "data": {
      "text/plain": [
       "time_id       1000\n",
       "year          1000\n",
       "month         1000\n",
       "day           1000\n",
       "hour          1000\n",
       "minute        1000\n",
       "second        1000\n",
       "quarter       1000\n",
       "season        1000\n",
       "is_weekend    1000\n",
       "dtype: int64"
      ]
     },
     "execution_count": 20,
     "metadata": {},
     "output_type": "execute_result"
    }
   ],
   "source": [
    "df.count()"
   ]
  },
  {
   "cell_type": "markdown",
   "metadata": {},
   "source": [
    "# load data into xml file file "
   ]
  },
  {
   "cell_type": "code",
   "execution_count": 23,
   "metadata": {},
   "outputs": [
    {
     "name": "stdout",
     "output_type": "stream",
     "text": [
      "\n",
      "DataFrame saved to time.xml\n"
     ]
    }
   ],
   "source": [
    "df.to_xml(\"time_dimensionS\",index=False,root_name='time',row_name='time')\n",
    "\n",
    "print(\"\\nDataFrame saved to time.xml\")"
   ]
  },
  {
   "cell_type": "code",
   "execution_count": null,
   "metadata": {},
   "outputs": [],
   "source": [
    "S"
   ]
  }
 ],
 "metadata": {
  "kernelspec": {
   "display_name": "Python 3",
   "language": "python",
   "name": "python3"
  },
  "language_info": {
   "codemirror_mode": {
    "name": "ipython",
    "version": 3
   },
   "file_extension": ".py",
   "mimetype": "text/x-python",
   "name": "python",
   "nbconvert_exporter": "python",
   "pygments_lexer": "ipython3",
   "version": "3.11.9"
  }
 },
 "nbformat": 4,
 "nbformat_minor": 2
}
